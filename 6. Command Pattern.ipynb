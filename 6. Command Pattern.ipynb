{
 "cells": [
  {
   "cell_type": "markdown",
   "metadata": {},
   "source": [
    "# Command Pattern"
   ]
  },
  {
   "cell_type": "markdown",
   "metadata": {},
   "source": [
    "## Use Case: Remote Control for All Devices"
   ]
  },
  {
   "cell_type": "code",
   "execution_count": 5,
   "metadata": {},
   "outputs": [],
   "source": [
    "from override_decorator import override\n",
    "from typing import Dict"
   ]
  },
  {
   "cell_type": "code",
   "execution_count": 6,
   "metadata": {},
   "outputs": [],
   "source": [
    "from abc import ABC, abstractmethod\n",
    "\n",
    "class Command(ABC):\n",
    "\n",
    "    @abstractmethod\n",
    "    def execute(self):\n",
    "        raise NotImplementedError"
   ]
  },
  {
   "cell_type": "markdown",
   "metadata": {},
   "source": [
    "Let say we have a bunch of class with like this"
   ]
  },
  {
   "cell_type": "code",
   "execution_count": 7,
   "metadata": {},
   "outputs": [],
   "source": [
    "class Light:\n",
    "\n",
    "    def __init__(self) -> None:\n",
    "        pass\n",
    "\n",
    "    def turnOn(self):\n",
    "        print(\"turn on the light\")\n",
    "\n",
    "    def turnOff(self):\n",
    "        print(\"turn off the light\")\n",
    "\n",
    "class Stereo:\n",
    "\n",
    "    def __init__(self) -> None:\n",
    "        pass\n",
    "\n",
    "    def on(self):\n",
    "        print(\"turn on\")\n",
    "\n",
    "    def off(self):\n",
    "        print(\"turn off\")\n",
    "\n",
    "class AirConditioner:\n",
    "\n",
    "    def __init__(self) -> None:\n",
    "        self._temperature = 0\n",
    "\n",
    "    def setTemperature(self, temperature: int) -> None:\n",
    "        self._temperature = temperature"
   ]
  },
  {
   "cell_type": "markdown",
   "metadata": {},
   "source": [
    "The idea behind command pattern is to make all of these method standardized."
   ]
  },
  {
   "cell_type": "code",
   "execution_count": 8,
   "metadata": {},
   "outputs": [],
   "source": [
    "class LightOnCommand(Command):\n",
    "    \n",
    "    def __init__(self, light: Light) -> None:\n",
    "        self._light = light\n",
    "\n",
    "    @override(Command)\n",
    "    def execute(self) -> None:\n",
    "        self._light.turnOn()"
   ]
  },
  {
   "cell_type": "markdown",
   "metadata": {},
   "source": [
    "We need a class to controll all commands"
   ]
  },
  {
   "cell_type": "code",
   "execution_count": 9,
   "metadata": {},
   "outputs": [],
   "source": [
    "class SimpleRemoteControl:\n",
    "\n",
    "    def __init__(self) -> None:\n",
    "        self._command: Command = None\n",
    "\n",
    "    def setCommand(self, command: Command):\n",
    "        self._command = command\n",
    "\n",
    "    def buttonPressed(self):\n",
    "        return self._command.execute()"
   ]
  },
  {
   "cell_type": "code",
   "execution_count": 10,
   "metadata": {},
   "outputs": [
    {
     "name": "stdout",
     "output_type": "stream",
     "text": [
      "turn on the light\n"
     ]
    }
   ],
   "source": [
    "simpleRemoteControl = SimpleRemoteControl()\n",
    "\n",
    "light = Light()\n",
    "lightOnCommand = LightOnCommand(light)\n",
    "\n",
    "simpleRemoteControl.setCommand(lightOnCommand)\n",
    "simpleRemoteControl.buttonPressed()"
   ]
  },
  {
   "cell_type": "markdown",
   "metadata": {},
   "source": [
    "## Abstract Command Pattern"
   ]
  },
  {
   "cell_type": "code",
   "execution_count": 11,
   "metadata": {},
   "outputs": [],
   "source": [
    "class Loader(ABC):\n",
    "\n",
    "    @abstractmethod\n",
    "    def load(self) -> None:\n",
    "        raise NotImplementedError\n",
    "    \n",
    "class Invoker(ABC):\n",
    "\n",
    "    @abstractmethod\n",
    "    def setCommand(self, command: Command):\n",
    "        raise NotImplementedError\n",
    "    \n",
    "class Command(ABC):\n",
    "\n",
    "    @abstractmethod\n",
    "    def execute(self):\n",
    "        raise NotImplementedError"
   ]
  },
  {
   "cell_type": "code",
   "execution_count": 16,
   "metadata": {},
   "outputs": [],
   "source": [
    "class Light:\n",
    "\n",
    "    def __init__(self) -> None:\n",
    "        pass\n",
    "\n",
    "    def turnOn(self):\n",
    "        return True\n",
    "    \n",
    "    def turnOff(self):\n",
    "        return False\n",
    "\n",
    "class Stereo:\n",
    "\n",
    "    def __init__(self) -> None:\n",
    "        self._volume = 0\n",
    "\n",
    "    def on(self):\n",
    "        print(\"On\")\n",
    "\n",
    "    def off(self):\n",
    "        print(\"Off\")\n",
    "\n",
    "    def setCD(self):\n",
    "        print(\"Set CD\")\n",
    "\n",
    "    def setVolume(self, volume: int):\n",
    "        self._volume = volume"
   ]
  },
  {
   "cell_type": "code",
   "execution_count": 18,
   "metadata": {},
   "outputs": [],
   "source": [
    "class LightOnCommand(Command):\n",
    "\n",
    "    def __init__(self, light: Light) -> None:\n",
    "        self._light = light\n",
    "\n",
    "    override(Command)\n",
    "    def execute(self):\n",
    "        return self._light.turnOn()\n",
    "    \n",
    "class LightOffCommand(Command):\n",
    "\n",
    "    def __init__(self, light: Light) -> None:\n",
    "        self._light = light\n",
    "\n",
    "    override(Command)\n",
    "    def execute(self):\n",
    "        return self._light.turnOff()\n",
    "    \n",
    "class StereoOnWithCommand(Command):\n",
    "\n",
    "    def __init__(self, stereo: Stereo) -> None:\n",
    "        self._stereo = stereo\n",
    "\n",
    "    @override(Command)\n",
    "    def execute(self):\n",
    "        self._stereo.on()\n",
    "        self._stereo.setCD()\n",
    "        self._stereo.setVolume(11)\n",
    "\n",
    "class StereoOffWithCommand(Command):\n",
    "\n",
    "    def __init__(self, stereo: Stereo) -> None:\n",
    "        self._stereo = stereo\n",
    "\n",
    "    @override(Command)\n",
    "    def execute(self):\n",
    "        self._stereo.off()"
   ]
  },
  {
   "cell_type": "code",
   "execution_count": 19,
   "metadata": {},
   "outputs": [],
   "source": [
    "class RemoteControl(Invoker):\n",
    "\n",
    "    def __init__(self) -> None:\n",
    "        self._commandOn: Dict[Command] = {}\n",
    "        self._commandOff: Dict[Command] = {}\n",
    "\n",
    "    @override(Invoker)\n",
    "    def setCommand(self, index: int, commandOn: Command, commandOff: Command):\n",
    "        self._commandOn[index] = commandOn\n",
    "        self._commandOff[index] = commandOff\n",
    "\n",
    "    def onButtonPress(self, index: int):\n",
    "        return self._commandOn[index].execute()\n",
    "    \n",
    "    def offButtonPress(self, index: int):\n",
    "        return self._commandOff[index].execute()"
   ]
  },
  {
   "cell_type": "code",
   "execution_count": 20,
   "metadata": {},
   "outputs": [
    {
     "name": "stdout",
     "output_type": "stream",
     "text": [
      "On\n",
      "Set CD\n",
      "Off\n"
     ]
    }
   ],
   "source": [
    "remoteControl = RemoteControl()\n",
    "\n",
    "light = Light()\n",
    "\n",
    "lightOnCommand = LightOnCommand(light)\n",
    "lightOffCommand = LightOffCommand(light)\n",
    "\n",
    "stereo = Stereo()\n",
    "\n",
    "stereoOnWithCommand = StereoOnWithCommand(stereo)\n",
    "StereoOffWithCommand = StereoOffWithCommand(stereo)\n",
    "\n",
    "remoteControl.setCommand(0, lightOnCommand, lightOffCommand)\n",
    "remoteControl.setCommand(1, stereoOnWithCommand, StereoOffWithCommand)\n",
    "\n",
    "remoteControl.onButtonPress(0)\n",
    "remoteControl.offButtonPress(0)\n",
    "\n",
    "remoteControl.onButtonPress(1)\n",
    "remoteControl.offButtonPress(1)"
   ]
  }
 ],
 "metadata": {
  "kernelspec": {
   "display_name": "ai",
   "language": "python",
   "name": "python3"
  },
  "language_info": {
   "codemirror_mode": {
    "name": "ipython",
    "version": 3
   },
   "file_extension": ".py",
   "mimetype": "text/x-python",
   "name": "python",
   "nbconvert_exporter": "python",
   "pygments_lexer": "ipython3",
   "version": "3.8.16"
  }
 },
 "nbformat": 4,
 "nbformat_minor": 2
}
