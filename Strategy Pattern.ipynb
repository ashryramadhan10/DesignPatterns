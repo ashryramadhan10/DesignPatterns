{
 "cells": [
  {
   "cell_type": "markdown",
   "metadata": {},
   "source": [
    "# Strategy Pattern"
   ]
  },
  {
   "cell_type": "code",
   "execution_count": 1,
   "metadata": {},
   "outputs": [],
   "source": [
    "import inspect\n",
    "from typing import Callable, Type\n",
    "\n",
    "def override(interface_class: Type) -> Callable:\n",
    "    def decorator(method: Callable) -> Callable:\n",
    "        method_name = method.__name__\n",
    "        for cls in inspect.getmro(interface_class):\n",
    "            if cls is not object and method_name in cls.__dict__:\n",
    "                return method\n",
    "        raise TypeError(f\"{method_name} does not override any method in {interface_class.__name__}\")\n",
    "    return decorator"
   ]
  },
  {
   "cell_type": "code",
   "execution_count": 4,
   "metadata": {},
   "outputs": [],
   "source": [
    "from abc import ABC, abstractmethod\n",
    "\n",
    "class IFlyBehavior(ABC):\n",
    "\n",
    "    @abstractmethod\n",
    "    def fly(self):\n",
    "        raise NotImplementedError\n",
    "    \n",
    "class IQuackBehavior(ABC):\n",
    "\n",
    "    @abstractmethod\n",
    "    def quack(self):\n",
    "        raise NotImplementedError"
   ]
  },
  {
   "cell_type": "code",
   "execution_count": 6,
   "metadata": {},
   "outputs": [],
   "source": [
    "class FlyWithWings(IFlyBehavior):\n",
    "\n",
    "    def __init__(self) -> None:\n",
    "        pass\n",
    "\n",
    "    @override(IFlyBehavior)\n",
    "    def fly(self):\n",
    "        return \"Fly with Wings\"\n",
    "    \n",
    "class FlyNoWay(IFlyBehavior):\n",
    "\n",
    "    def __init__(self) -> None:\n",
    "        pass\n",
    "\n",
    "    @override(IFlyBehavior)\n",
    "    def fly(self):\n",
    "        return \"Fly No Way\"\n",
    "    \n",
    "class Quack(IQuackBehavior):\n",
    "\n",
    "    def __init__(self) -> None:\n",
    "        pass\n",
    "\n",
    "    @override(IQuackBehavior)\n",
    "    def quack(self):\n",
    "        return \"Quack\""
   ]
  },
  {
   "cell_type": "markdown",
   "metadata": {},
   "source": [
    "Prefer composition over inheritance, thus we can easily change the behavior of our class."
   ]
  },
  {
   "cell_type": "code",
   "execution_count": 9,
   "metadata": {},
   "outputs": [],
   "source": [
    "class Duck:\n",
    "    \n",
    "    def __init__(self, flyBehavior: IFlyBehavior, quackBehavior: IQuackBehavior) -> None:\n",
    "        self._flyBehavior: IFlyBehavior = flyBehavior\n",
    "        self._quckBehavior: IQuackBehavior  = quackBehavior\n",
    "\n",
    "    def performFly(self):\n",
    "        return self._flyBehavior.fly()\n",
    "    \n",
    "    def performQuack(self):\n",
    "        return self._quckBehavior.quack()\n",
    "    \n",
    "    def setFlyBehavior(self, flyBehavior: IFlyBehavior) -> None:\n",
    "        self._flyBehavior = flyBehavior\n",
    "\n",
    "    def setQuackBehavior(self, quackBehavior: IQuackBehavior) -> None:\n",
    "        self._quackBehavior = quackBehavior\n",
    "\n",
    "class MallardDuck(Duck):\n",
    "\n",
    "    def __init__(self):\n",
    "        # We can easily change this based on our requirements\n",
    "        super().__init__(flyBehavior=FlyWithWings(), quackBehavior=Quack())\n",
    "        print(\"Mallard Duck Constructor\")"
   ]
  },
  {
   "cell_type": "markdown",
   "metadata": {},
   "source": [
    "Test"
   ]
  },
  {
   "cell_type": "code",
   "execution_count": 8,
   "metadata": {},
   "outputs": [
    {
     "name": "stdout",
     "output_type": "stream",
     "text": [
      "Mallard Duck Constructor\n",
      "Fly with Wings, Quack\n"
     ]
    }
   ],
   "source": [
    "mallardDuck = MallardDuck()\n",
    "print(f\"{mallardDuck.performFly()}, {mallardDuck.performQuack()}\")"
   ]
  }
 ],
 "metadata": {
  "kernelspec": {
   "display_name": "ai",
   "language": "python",
   "name": "python3"
  },
  "language_info": {
   "codemirror_mode": {
    "name": "ipython",
    "version": 3
   },
   "file_extension": ".py",
   "mimetype": "text/x-python",
   "name": "python",
   "nbconvert_exporter": "python",
   "pygments_lexer": "ipython3",
   "version": "3.8.16"
  }
 },
 "nbformat": 4,
 "nbformat_minor": 2
}
