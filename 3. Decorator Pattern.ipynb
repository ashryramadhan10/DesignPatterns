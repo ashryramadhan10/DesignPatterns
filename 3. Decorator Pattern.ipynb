{
 "cells": [
  {
   "cell_type": "markdown",
   "metadata": {},
   "source": [
    "# Decorator Pattern"
   ]
  },
  {
   "cell_type": "markdown",
   "metadata": {},
   "source": [
    "## Use Case: Ordering Coffe with Add Ons"
   ]
  },
  {
   "cell_type": "code",
   "execution_count": 2,
   "metadata": {},
   "outputs": [],
   "source": [
    "import inspect\n",
    "from typing import Callable, Type\n",
    "\n",
    "def override(interface_class: Type) -> Callable:\n",
    "    def decorator(method: Callable) -> Callable:\n",
    "        method_name = method.__name__\n",
    "        for cls in inspect.getmro(interface_class):\n",
    "            if cls is not object and method_name in cls.__dict__:\n",
    "                return method\n",
    "        raise TypeError(f\"{method_name} does not override any method in {interface_class.__name__}\")\n",
    "    return decorator"
   ]
  },
  {
   "cell_type": "code",
   "execution_count": 3,
   "metadata": {},
   "outputs": [],
   "source": [
    "from abc import ABC, abstractmethod\n",
    "\n",
    "class Beverage(ABC):\n",
    "\n",
    "    def __init__(self) -> None:\n",
    "        self._description = \"Unkown Beverage\"\n",
    "\n",
    "    def getDescription(self) -> str:\n",
    "        return self._description\n",
    "    \n",
    "    @abstractmethod\n",
    "    def getCost(self) -> float:\n",
    "        raise NotImplementedError\n",
    "    \n",
    "class CondimentDecorator(Beverage, ABC):\n",
    "\n",
    "    def __init__(self, beverage: Beverage) -> None:\n",
    "        self._beverage: Beverage = beverage\n",
    "\n",
    "    def getBeverage(self) -> Beverage:\n",
    "        return self._beverage\n",
    "\n",
    "    @abstractmethod\n",
    "    def getDescription(self) -> str:\n",
    "        raise NotImplementedError"
   ]
  },
  {
   "cell_type": "markdown",
   "metadata": {},
   "source": [
    "Base Classes"
   ]
  },
  {
   "cell_type": "code",
   "execution_count": 4,
   "metadata": {},
   "outputs": [],
   "source": [
    "class Expresso(Beverage):\n",
    "\n",
    "    def __init__(self, cost: float) -> None:\n",
    "        super().__init__()\n",
    "        self._description = \"Expresso\"\n",
    "        self._cost = cost\n",
    "\n",
    "    @override(Beverage)\n",
    "    def getCost(self) -> float:\n",
    "        return self._cost\n",
    "    \n",
    "class HouseBlend(Beverage):\n",
    "\n",
    "    def __init__(self, cost: float) -> None:\n",
    "        super().__init__()\n",
    "        self._description = \"House Blend\"\n",
    "        self._cost = cost\n",
    "\n",
    "    @override(Beverage)\n",
    "    def getCost(self) -> float:\n",
    "        return self._cost"
   ]
  },
  {
   "cell_type": "markdown",
   "metadata": {},
   "source": [
    "Decorator for Base Classes"
   ]
  },
  {
   "cell_type": "code",
   "execution_count": 5,
   "metadata": {},
   "outputs": [],
   "source": [
    "class Mocha(CondimentDecorator):\n",
    "\n",
    "    def __init__(self, beverage: Beverage, cost: float) -> None:\n",
    "        super().__init__(beverage)\n",
    "        self._description = \"Mocha\"\n",
    "        self._cost = cost\n",
    "\n",
    "    @override(CondimentDecorator)\n",
    "    def getDescription(self) -> str:\n",
    "        return self.getBeverage().getDescription() + \" \" + self._description\n",
    "    \n",
    "    @override(Beverage)\n",
    "    def getCost(self) -> float:\n",
    "        return self.getBeverage().getCost() + self._cost\n",
    "\n",
    "class Caramel(CondimentDecorator):\n",
    "\n",
    "    def __init__(self, beverage: Beverage, cost: float) -> None:\n",
    "        super().__init__(beverage)\n",
    "        self._description = \"Caramel\"\n",
    "        self._cost = cost\n",
    "\n",
    "    @override(CondimentDecorator)\n",
    "    def getDescription(self) -> str:\n",
    "        return self.getBeverage().getDescription() + \" \" + self._description\n",
    "    \n",
    "    @override(Beverage)\n",
    "    def getCost(self) -> float:\n",
    "        return self.getBeverage().getCost() + self._cost"
   ]
  },
  {
   "cell_type": "code",
   "execution_count": 6,
   "metadata": {},
   "outputs": [
    {
     "name": "stdout",
     "output_type": "stream",
     "text": [
      "Expresso Mocha Caramel 5.0\n"
     ]
    }
   ],
   "source": [
    "expresso = Expresso(1.0)\n",
    "expressoMocha = Mocha(expresso, 2.0)\n",
    "expressoMochaCaramel = Caramel(expressoMocha, 2.0)\n",
    "print(expressoMochaCaramel.getDescription(), expressoMochaCaramel.getCost())"
   ]
  },
  {
   "cell_type": "markdown",
   "metadata": {},
   "source": [
    "## Use Case: Deprecation Method"
   ]
  },
  {
   "cell_type": "code",
   "execution_count": 24,
   "metadata": {},
   "outputs": [],
   "source": [
    "class Component(ABC):\n",
    "\n",
    "    @abstractmethod\n",
    "    def operation(self) -> None:\n",
    "        raise NotImplementedError\n",
    "    \n",
    "class ComponentDecorator(Component):\n",
    "\n",
    "    def __init__(self, component: Component) -> None:\n",
    "        self._component = component"
   ]
  },
  {
   "cell_type": "code",
   "execution_count": 28,
   "metadata": {},
   "outputs": [],
   "source": [
    "class ConcreteComponent(Component):\n",
    "\n",
    "    def __init__(self) -> None:\n",
    "        print(\"$ Concrete Component Constructor\")\n",
    "\n",
    "    @override(Component)\n",
    "    def operation(self) -> None:\n",
    "        return \"Concrete Operation\""
   ]
  },
  {
   "cell_type": "code",
   "execution_count": 29,
   "metadata": {},
   "outputs": [],
   "source": [
    "import warnings\n",
    "\n",
    "class DeprecatedDecorator(ComponentDecorator):\n",
    "\n",
    "    def __init__(self, component: Component) -> None:\n",
    "        super().__init__(component)\n",
    "        print(\"$ Deprecated Decorator Constructor\")\n",
    "\n",
    "    @override(Component)\n",
    "    def operation(self) -> None:\n",
    "        warnings.warn(\n",
    "            f\"{self._component.__class__.__name__}.operation is deprecated and will be removed in future versions.\",\n",
    "            category=DeprecationWarning,\n",
    "            stacklevel=2\n",
    "        )\n",
    "        return self._component.operation() + \" (Deprecated Function)\""
   ]
  },
  {
   "cell_type": "code",
   "execution_count": 31,
   "metadata": {},
   "outputs": [
    {
     "name": "stdout",
     "output_type": "stream",
     "text": [
      "$ Concrete Component Constructor\n",
      "Concrete Operation\n",
      "$ Deprecated Decorator Constructor\n",
      "Concrete Operation (Deprecated Function)\n"
     ]
    },
    {
     "name": "stderr",
     "output_type": "stream",
     "text": [
      "C:\\Users\\MSI GAMING\\AppData\\Local\\Temp\\ipykernel_1784\\2063089777.py:5: DeprecationWarning: ConcreteComponent.operation is deprecated and will be removed in future versions.\n",
      "  print(concreteComponent.operation())\n"
     ]
    }
   ],
   "source": [
    "concreteComponent = ConcreteComponent()\n",
    "print(concreteComponent.operation())\n",
    "\n",
    "concreteComponent = DeprecatedDecorator(concreteComponent)\n",
    "print(concreteComponent.operation())"
   ]
  }
 ],
 "metadata": {
  "kernelspec": {
   "display_name": "ai",
   "language": "python",
   "name": "python3"
  },
  "language_info": {
   "codemirror_mode": {
    "name": "ipython",
    "version": 3
   },
   "file_extension": ".py",
   "mimetype": "text/x-python",
   "name": "python",
   "nbconvert_exporter": "python",
   "pygments_lexer": "ipython3",
   "version": "3.8.16"
  }
 },
 "nbformat": 4,
 "nbformat_minor": 2
}
