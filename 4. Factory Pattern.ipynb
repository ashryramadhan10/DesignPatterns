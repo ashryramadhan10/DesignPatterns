{
 "cells": [
  {
   "cell_type": "markdown",
   "metadata": {},
   "source": [
    "# Factory Pattern"
   ]
  },
  {
   "cell_type": "markdown",
   "metadata": {},
   "source": [
    "## Use Case: Adding and Selecting New Types from a Super Class"
   ]
  },
  {
   "cell_type": "code",
   "execution_count": 2,
   "metadata": {},
   "outputs": [],
   "source": [
    "from override_decorator import override"
   ]
  },
  {
   "cell_type": "markdown",
   "metadata": {},
   "source": [
    "Issue example:\n",
    "\n",
    "```python\n",
    "if isPicnic():\n",
    "    duck = MallardDuck()\n",
    "elif isHunting():\n",
    "    duck = DecoyDuck()\n",
    "elif isInBathTub():\n",
    "    duck = RubberDuck()\n",
    "```\n",
    "\n",
    "It seems like the script can grow more longer if we have a new type, we need to figure it out how to handle this.\n",
    "\n",
    "Another example is we really want to do something stright forward like this:\n",
    "\n",
    "```python\n",
    "def orderPizza(self) -> Pizza:\n",
    "    pizza = Pizza()\n",
    "\n",
    "    pizza.prepare()\n",
    "    pizza.bake()\n",
    "    pizza.cut()\n",
    "    pizza.box()\n",
    "    return pizza\n",
    "```\n",
    "\n",
    "Instead of getting something like this, we would be end up to something like this:\n",
    "\n",
    "```python\n",
    "def orderPizza(self, type: PizzaType) -> Pizza:\n",
    "    \n",
    "    if type == PizzaType.CHEESE_PIZZA:\n",
    "        pizza = CheesePizza()\n",
    "    elif type == PizzaType.GREEK_PIZZA:\n",
    "        pizza = GreekPizza()\n",
    "    elif type == PizzaType.PEPPERONI_PIZZA:\n",
    "        pizza = PepperoniPizza()\n",
    "\n",
    "    pizza.prepare()\n",
    "    pizza.bake()\n",
    "    pizza.cut()\n",
    "    pizza.box()\n",
    "    return pizza\n",
    "```"
   ]
  },
  {
   "cell_type": "code",
   "execution_count": 19,
   "metadata": {},
   "outputs": [],
   "source": [
    "from enum import Enum\n",
    "from abc import ABC, abstractmethod\n",
    "\n",
    "class PizzaType(Enum):\n",
    "\n",
    "    CHEESE_PIZZA = \"Cheese Pizza\"\n",
    "    GREEK_PIZZA = \"Greek Pizza\"\n",
    "    PEPPERONI_PIZZA = \"Pepperoni Pizza\"\n",
    "    NY_CHEESE_PIZZA = \"NY Cheese Pizza\"\n",
    "    CHICAGO_CHEESE_PIZZA = \"Chicago Cheese Pizza\"\n",
    "\n",
    "class Pizza(ABC):\n",
    "\n",
    "    @abstractmethod\n",
    "    def prepare(self) -> None:\n",
    "        raise NotImplementedError\n",
    "    \n",
    "class CheesePizza(Pizza):\n",
    "\n",
    "    def __init__(self) -> None:\n",
    "        self._type = PizzaType.CHEESE_PIZZA\n",
    "\n",
    "    def __repr__(self) -> str:\n",
    "        return f\"{self.__class__.__name__}(type={self.getType()})\"\n",
    "\n",
    "    def getType(self) -> PizzaType:\n",
    "        return self._type\n",
    "    \n",
    "    @override(Pizza)\n",
    "    def prepare(self) -> None:\n",
    "        print(f\"Prepare {self.__class__.__name__}\")\n",
    "\n",
    "class GreekPizza(Pizza):\n",
    "\n",
    "    def __init__(self) -> None:\n",
    "        self._type = PizzaType.GREEK_PIZZA\n",
    "\n",
    "    def __repr__(self) -> str:\n",
    "        return f\"{self.__class__.__name__}(type={self.getType()})\"\n",
    "\n",
    "    def getType(self) -> PizzaType:\n",
    "        return self._type\n",
    "    \n",
    "    @override(Pizza)\n",
    "    def prepare(self) -> None:\n",
    "        print(f\"Prepare {self.__class__.__name__}\")\n",
    "\n",
    "class PepperoniPizza(Pizza):\n",
    "\n",
    "    def __init__(self) -> None:\n",
    "        self._type = PizzaType.PEPPERONI_PIZZA\n",
    "\n",
    "    def __repr__(self) -> str:\n",
    "        return f\"{self.__class__.__name__}(type={self.getType()})\"\n",
    "\n",
    "    def getType(self) -> PizzaType:\n",
    "        return self._type\n",
    "    \n",
    "    @override(Pizza)\n",
    "    def prepare(self) -> None:\n",
    "        print(f\"Prepare {self.__class__.__name__}\")"
   ]
  },
  {
   "cell_type": "code",
   "execution_count": 20,
   "metadata": {},
   "outputs": [
    {
     "name": "stdout",
     "output_type": "stream",
     "text": [
      "Prepare PepperoniPizza\n",
      "PepperoniPizza(type=PizzaType.PEPPERONI_PIZZA)\n"
     ]
    }
   ],
   "source": [
    "def orderPizza(type: PizzaType) -> Pizza:\n",
    "    if type == PizzaType.CHEESE_PIZZA:\n",
    "        pizza = CheesePizza()\n",
    "    elif type == PizzaType.GREEK_PIZZA:\n",
    "        pizza = GreekPizza()\n",
    "    elif type == PizzaType.PEPPERONI_PIZZA:\n",
    "        pizza = PepperoniPizza()\n",
    "\n",
    "    pizza.prepare()\n",
    "    return pizza\n",
    "\n",
    "pizzaType = PizzaType.PEPPERONI_PIZZA\n",
    "orderedPizza = orderPizza(pizzaType)\n",
    "print(orderedPizza)"
   ]
  },
  {
   "cell_type": "markdown",
   "metadata": {},
   "source": [
    "## How Factory Method Pattern Help This Case?"
   ]
  },
  {
   "cell_type": "markdown",
   "metadata": {},
   "source": [
    "We will encapsulate the creation process:\n",
    "\n",
    "```python\n",
    "def orderPizza(type: PizzaType) -> Pizza:\n",
    "    if type == PizzaType.CHEESE_PIZZA:\n",
    "        pizza = CheesePizza()\n",
    "    elif type == PizzaType.GREEK_PIZZA:\n",
    "        pizza = GreekPizza()\n",
    "    elif type == PizzaType.PEPPERONI_PIZZA:\n",
    "        pizza = PepperoniPizza()\n",
    "```"
   ]
  },
  {
   "cell_type": "markdown",
   "metadata": {},
   "source": [
    "Building `PizzaFactory` the main purpose of this is actually we encapuslate the create pizza process, so we don't need to always edit the `PizzaRestaurant` class if we got new changes, we only need to change the `PizzaFactory`"
   ]
  },
  {
   "cell_type": "code",
   "execution_count": 21,
   "metadata": {},
   "outputs": [],
   "source": [
    "class PizzaFactory:\n",
    "\n",
    "    def __init__(self) -> None:\n",
    "        pass\n",
    "\n",
    "    def createPizza(self, type: PizzaType) -> Pizza:\n",
    "        pizza = None\n",
    "\n",
    "        if type == PizzaType.CHEESE_PIZZA:\n",
    "            pizza = CheesePizza()\n",
    "        elif type == PizzaType.GREEK_PIZZA:\n",
    "            pizza = GreekPizza()\n",
    "        elif type == PizzaType.PEPPERONI_PIZZA:\n",
    "            pizza = PepperoniPizza()\n",
    "\n",
    "        return pizza\n",
    "    \n",
    "class PizzaRestaurant:\n",
    "\n",
    "    def __init__(self, pizzaFactory: PizzaFactory) -> None:\n",
    "        self._pizzaFacory = pizzaFactory\n",
    "\n",
    "    def orderPizza(self, type: PizzaType) -> Pizza:\n",
    "        pizza: Pizza = None\n",
    "        pizza = self._pizzaFacory.createPizza(type)\n",
    "        pizza.prepare()\n",
    "        \n",
    "        return pizza"
   ]
  },
  {
   "cell_type": "code",
   "execution_count": 22,
   "metadata": {},
   "outputs": [
    {
     "name": "stdout",
     "output_type": "stream",
     "text": [
      "Prepare GreekPizza\n",
      "GreekPizza(type=PizzaType.GREEK_PIZZA)\n"
     ]
    }
   ],
   "source": [
    "pizzaFactory = PizzaFactory()\n",
    "pizzaRestaurant = PizzaRestaurant(pizzaFactory)\n",
    "orderedPizza = pizzaRestaurant.orderPizza(PizzaType.GREEK_PIZZA)\n",
    "print(orderedPizza)"
   ]
  },
  {
   "cell_type": "markdown",
   "metadata": {},
   "source": [
    "## Use Case: Using Abstract Class"
   ]
  },
  {
   "cell_type": "code",
   "execution_count": 16,
   "metadata": {},
   "outputs": [],
   "source": [
    "class Product(ABC):\n",
    "\n",
    "    @abstractmethod\n",
    "    def getDescription(self) -> str:\n",
    "        raise NotImplementedError\n",
    "\n",
    "class Creator(ABC):\n",
    "\n",
    "    @abstractmethod\n",
    "    def factoryMethod(self, type: any) -> Product:\n",
    "        raise NotImplementedError"
   ]
  },
  {
   "cell_type": "markdown",
   "metadata": {},
   "source": [
    "Products"
   ]
  },
  {
   "cell_type": "code",
   "execution_count": 27,
   "metadata": {},
   "outputs": [],
   "source": [
    "class Pizza(Product):\n",
    "\n",
    "    def __init__(self, description: str = \"Unknown\") -> None:\n",
    "        self._description = description\n",
    "\n",
    "    @abstractmethod\n",
    "    def prepare(self) -> Pizza:\n",
    "        raise NotImplementedError\n",
    "\n",
    "class NYCheesePizza(Pizza):\n",
    "\n",
    "    def __init__(self) -> None:\n",
    "        super().__init__(\"NY Cheese Pizza\")\n",
    "        \n",
    "    def __repr__(self) -> str:\n",
    "        return f\"{self.__class__.__name__}(desc={self.getDescription()})\"\n",
    "\n",
    "    @override(Product)\n",
    "    def getDescription(self) -> str:\n",
    "        return self._description\n",
    "    \n",
    "    @override(Pizza)\n",
    "    def prepare(self) -> Pizza:\n",
    "        print(f\"Prepare {self.__class__.__name__}\")\n",
    "    \n",
    "class ChicagoCheezePizza(Pizza):\n",
    "\n",
    "    def __init__(self) -> None:\n",
    "        super().__init__(\"Chicago Cheese Pizza\")\n",
    "\n",
    "    def __repr__(self) -> str:\n",
    "        return f\"{self.__class__.__name__}(desc={self.getDescription()})\"\n",
    "\n",
    "    @override(Product)\n",
    "    def getDescription(self) -> str:\n",
    "        return self._description\n",
    "    \n",
    "    @override(Pizza)\n",
    "    def prepare(self) -> Pizza:\n",
    "        print(f\"Prepare {self.__class__.__name__}\")"
   ]
  },
  {
   "cell_type": "markdown",
   "metadata": {},
   "source": [
    "Creators"
   ]
  },
  {
   "cell_type": "code",
   "execution_count": 28,
   "metadata": {},
   "outputs": [],
   "source": [
    "class NYPizzaCreator(Creator):\n",
    "\n",
    "    def __init__(self) -> None:\n",
    "        pass\n",
    "\n",
    "    def factoryMethod(self, type: any) -> Product:\n",
    "        pizza: Pizza = None\n",
    "\n",
    "        if type == PizzaType.NY_CHEESE_PIZZA:\n",
    "            pizza = NYCheesePizza()\n",
    "\n",
    "        return pizza\n",
    "    \n",
    "class ChicagoPizzaCreator(Creator):\n",
    "\n",
    "    def __init__(self) -> None:\n",
    "        pass\n",
    "\n",
    "    def factoryMethod(self, type: any) -> Product:\n",
    "        pizza: Pizza = None\n",
    "\n",
    "        if type == PizzaType.CHICAGO_CHEESE_PIZZA:\n",
    "            pizza = ChicagoCheezePizza()\n",
    "\n",
    "        return pizza"
   ]
  },
  {
   "cell_type": "markdown",
   "metadata": {},
   "source": [
    "Restaurants"
   ]
  },
  {
   "cell_type": "code",
   "execution_count": 29,
   "metadata": {},
   "outputs": [],
   "source": [
    "from typing import Dict\n",
    "\n",
    "class Restaurant(ABC):\n",
    "\n",
    "    def __init__(self) -> None:\n",
    "        self._creators: Dict[Creator] = {}\n",
    "\n",
    "    def setCreator(self, key: str, value: any) -> None:\n",
    "        self._creators[key] = value\n",
    "\n",
    "    def getCreator(self, key: str) -> Creator:\n",
    "        return self._creators[key]\n",
    "    \n",
    "    def removeCreator(self, key: str) -> None:\n",
    "        del self._creators[key]\n",
    "\n",
    "    @abstractmethod\n",
    "    def order(self, type: Enum) -> Product:\n",
    "        raise NotImplementedError\n",
    "    \n",
    "class NYRestaurant(Restaurant):\n",
    "\n",
    "    def __init__(self) -> None:\n",
    "        super().__init__()\n",
    "        self.setCreator(key=\"NY_PIZZA_CREATOR\", value=NYPizzaCreator()) # this use creator\n",
    "\n",
    "    @override(Restaurant)\n",
    "    def order(self, type: Enum) -> Product:\n",
    "        pizza: Pizza = None\n",
    "        pizza = self.getCreator(key=\"NY_PIZZA_CREATOR\").factoryMethod(type)\n",
    "        pizza.prepare()\n",
    "\n",
    "        return pizza\n",
    "    \n",
    "class ChicagoRestaurant(Restaurant):\n",
    "\n",
    "    def __init__(self) -> None:\n",
    "        super().__init__()\n",
    "        self.setCreator(key=\"CHICAGO_PIZZA_CREATOR\", value=ChicagoPizzaCreator()) # this use creator\n",
    "\n",
    "    @override(Restaurant)\n",
    "    def order(self, type: Enum) -> Product:\n",
    "        pizza: Pizza = None\n",
    "        pizza = self.getCreator(key=\"CHICAGO_PIZZA_CREATOR\").factoryMethod(type)\n",
    "        pizza.prepare()\n",
    "\n",
    "        return pizza"
   ]
  },
  {
   "cell_type": "code",
   "execution_count": 30,
   "metadata": {},
   "outputs": [
    {
     "name": "stdout",
     "output_type": "stream",
     "text": [
      "Prepare NYCheesePizza\n",
      "NYCheesePizza(desc=NY Cheese Pizza)\n",
      "Prepare ChicagoCheezePizza\n",
      "ChicagoCheezePizza(desc=Chicago Cheese Pizza)\n"
     ]
    }
   ],
   "source": [
    "newYorkRestaurant = NYRestaurant()\n",
    "chicagoRestaurant = ChicagoRestaurant()\n",
    "\n",
    "newYorkPizza = newYorkRestaurant.order(type=PizzaType.NY_CHEESE_PIZZA)\n",
    "print(newYorkPizza)\n",
    "\n",
    "chicagoPizza = chicagoRestaurant.order(type=PizzaType.CHICAGO_CHEESE_PIZZA)\n",
    "print(chicagoPizza)"
   ]
  }
 ],
 "metadata": {
  "kernelspec": {
   "display_name": "ai",
   "language": "python",
   "name": "python3"
  },
  "language_info": {
   "codemirror_mode": {
    "name": "ipython",
    "version": 3
   },
   "file_extension": ".py",
   "mimetype": "text/x-python",
   "name": "python",
   "nbconvert_exporter": "python",
   "pygments_lexer": "ipython3",
   "version": "3.8.16"
  }
 },
 "nbformat": 4,
 "nbformat_minor": 2
}
