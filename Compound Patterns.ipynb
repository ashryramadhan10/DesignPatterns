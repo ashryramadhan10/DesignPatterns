{
 "cells": [
  {
   "cell_type": "markdown",
   "metadata": {},
   "source": [
    "# Compound Pattern\n",
    "\n",
    "The Compound Pattern combines multiple design patterns to solve a complex problem. A classic example from the \"Head First Design Patterns\" book is a Duck Simulator that involves a combination of the Strategy, Observer, Decorator, and Composite patterns to model the behavior of different types of ducks.\n",
    "\n",
    "## Scenario: Duck Simulator\n",
    "\n",
    "In the Duck Simulator, we have different kinds of ducks (e.g., MallardDuck, RedheadDuck, RubberDuck), each of which can quack and fly. We want to:\n",
    "\n",
    "* Simulate various duck behaviors.\n",
    "* Track the number of quacks made by all ducks.\n",
    "* Group ducks together so we can manage them as a whole."
   ]
  },
  {
   "cell_type": "code",
   "execution_count": 1,
   "metadata": {},
   "outputs": [],
   "source": [
    "from abc import ABC, abstractmethod\n",
    "\n",
    "class FlyBehavior(ABC):\n",
    "    @abstractmethod\n",
    "    def fly(self):\n",
    "        pass\n",
    "\n",
    "class FlyWithWings(FlyBehavior):\n",
    "    def fly(self):\n",
    "        print(\"I'm flying with wings!\")\n",
    "\n",
    "class FlyNoWay(FlyBehavior):\n",
    "    def fly(self):\n",
    "        print(\"I can't fly.\")"
   ]
  },
  {
   "cell_type": "code",
   "execution_count": 2,
   "metadata": {},
   "outputs": [],
   "source": [
    "class QuackBehavior(ABC):\n",
    "    @abstractmethod\n",
    "    def quack(self):\n",
    "        pass\n",
    "\n",
    "class Quack(QuackBehavior):\n",
    "    def quack(self):\n",
    "        print(\"Quack!\")\n",
    "\n",
    "class Squeak(QuackBehavior):\n",
    "    def quack(self):\n",
    "        print(\"Squeak!\")\n",
    "\n",
    "class MuteQuack(QuackBehavior):\n",
    "    def quack(self):\n",
    "        print(\"<< Silence >>\")"
   ]
  },
  {
   "cell_type": "code",
   "execution_count": 3,
   "metadata": {},
   "outputs": [],
   "source": [
    "class Duck(ABC):\n",
    "    def __init__(self):\n",
    "        self.fly_behavior = None\n",
    "        self.quack_behavior = None\n",
    "\n",
    "    @abstractmethod\n",
    "    def display(self):\n",
    "        pass\n",
    "\n",
    "    def perform_fly(self):\n",
    "        self.fly_behavior.fly()\n",
    "\n",
    "    def perform_quack(self):\n",
    "        self.quack_behavior.quack()\n",
    "\n",
    "    def swim(self):\n",
    "        print(\"All ducks float, even decoys!\")"
   ]
  },
  {
   "cell_type": "code",
   "execution_count": 4,
   "metadata": {},
   "outputs": [],
   "source": [
    "class QuackObservable(ABC):\n",
    "    @abstractmethod\n",
    "    def register_observer(self, observer):\n",
    "        pass\n",
    "\n",
    "    @abstractmethod\n",
    "    def notify_observers(self):\n",
    "        pass"
   ]
  },
  {
   "cell_type": "code",
   "execution_count": 5,
   "metadata": {},
   "outputs": [],
   "source": [
    "class Quackologist:\n",
    "    def update(self, duck):\n",
    "        print(f\"Quackologist: {duck.__class__.__name__} just quacked.\")"
   ]
  },
  {
   "cell_type": "code",
   "execution_count": 6,
   "metadata": {},
   "outputs": [],
   "source": [
    "class QuackCounter(QuackBehavior):\n",
    "    number_of_quacks = 0\n",
    "\n",
    "    def __init__(self, duck):\n",
    "        self.duck = duck\n",
    "\n",
    "    def quack(self):\n",
    "        self.duck.quack()\n",
    "        QuackCounter.number_of_quacks += 1\n",
    "\n",
    "    @staticmethod\n",
    "    def get_quacks():\n",
    "        return QuackCounter.number_of_quacks"
   ]
  },
  {
   "cell_type": "code",
   "execution_count": 7,
   "metadata": {},
   "outputs": [],
   "source": [
    "class Flock(Duck, QuackObservable):\n",
    "    def __init__(self):\n",
    "        super().__init__()\n",
    "        self.ducks = []\n",
    "\n",
    "    def add(self, duck):\n",
    "        self.ducks.append(duck)\n",
    "\n",
    "    def perform_quack(self):\n",
    "        for duck in self.ducks:\n",
    "            duck.perform_quack()\n",
    "\n",
    "    def perform_fly(self):\n",
    "        for duck in self.ducks:\n",
    "            duck.perform_fly()\n",
    "\n",
    "    def display(self):\n",
    "        for duck in self.ducks:\n",
    "            duck.display()\n",
    "\n",
    "    def register_observer(self, observer):\n",
    "        for duck in self.ducks:\n",
    "            if isinstance(duck, QuackObservable):\n",
    "                duck.register_observer(observer)\n",
    "\n",
    "    def notify_observers(self):\n",
    "        for duck in self.ducks:\n",
    "            if isinstance(duck, QuackObservable):\n",
    "                duck.notify_observers()"
   ]
  },
  {
   "cell_type": "code",
   "execution_count": 8,
   "metadata": {},
   "outputs": [],
   "source": [
    "class MallardDuck(Duck, QuackObservable):\n",
    "    def __init__(self):\n",
    "        super().__init__()\n",
    "        self.fly_behavior = FlyWithWings()\n",
    "        self.quack_behavior = Quack()\n",
    "\n",
    "    def display(self):\n",
    "        print(\"I'm a real Mallard Duck.\")\n",
    "\n",
    "    def perform_quack(self):\n",
    "        self.quack_behavior.quack()\n",
    "        self.notify_observers()\n",
    "\n",
    "    def register_observer(self, observer):\n",
    "        if not hasattr(self, 'observers'):\n",
    "            self.observers = []\n",
    "        self.observers.append(observer)\n",
    "\n",
    "    def notify_observers(self):\n",
    "        if hasattr(self, 'observers'):\n",
    "            for observer in self.observers:\n",
    "                observer.update(self)"
   ]
  },
  {
   "cell_type": "code",
   "execution_count": 9,
   "metadata": {},
   "outputs": [],
   "source": [
    "class RubberDuck(Duck, QuackObservable):\n",
    "    def __init__(self):\n",
    "        super().__init__()\n",
    "        self.fly_behavior = FlyNoWay()\n",
    "        self.quack_behavior = Squeak()\n",
    "\n",
    "    def display(self):\n",
    "        print(\"I'm a rubber duck.\")\n",
    "\n",
    "    def perform_quack(self):\n",
    "        self.quack_behavior.quack()\n",
    "        self.notify_observers()\n",
    "\n",
    "    def register_observer(self, observer):\n",
    "        if not hasattr(self, 'observers'):\n",
    "            self.observers = []\n",
    "        self.observers.append(observer)\n",
    "\n",
    "    def notify_observers(self):\n",
    "        if hasattr(self, 'observers'):\n",
    "            for observer in self.observers:\n",
    "                observer.update(self)"
   ]
  }
 ],
 "metadata": {
  "kernelspec": {
   "display_name": "experimental",
   "language": "python",
   "name": "python3"
  },
  "language_info": {
   "codemirror_mode": {
    "name": "ipython",
    "version": 3
   },
   "file_extension": ".py",
   "mimetype": "text/x-python",
   "name": "python",
   "nbconvert_exporter": "python",
   "pygments_lexer": "ipython3",
   "version": "3.11.4"
  }
 },
 "nbformat": 4,
 "nbformat_minor": 2
}
