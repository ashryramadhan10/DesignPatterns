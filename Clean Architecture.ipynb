{
 "cells": [
  {
   "cell_type": "markdown",
   "metadata": {},
   "source": [
    "# Clean Architectures"
   ]
  },
  {
   "cell_type": "markdown",
   "metadata": {},
   "source": [
    "## Use Case: Image Processing"
   ]
  },
  {
   "cell_type": "code",
   "execution_count": 1,
   "metadata": {},
   "outputs": [],
   "source": [
    "from override_decorator import override\n",
    "import time\n",
    "from pathlib import Path"
   ]
  },
  {
   "cell_type": "markdown",
   "metadata": {},
   "source": [
    "## Entities"
   ]
  },
  {
   "cell_type": "code",
   "execution_count": 2,
   "metadata": {},
   "outputs": [],
   "source": [
    "from abc import ABC, abstractmethod\n",
    "from typing import Any\n",
    "\n",
    "class Entity(ABC):\n",
    "\n",
    "    @abstractmethod\n",
    "    def getDescription(self) -> str:\n",
    "        raise NotImplementedError"
   ]
  },
  {
   "cell_type": "markdown",
   "metadata": {},
   "source": [
    "## Interfaces / Actors"
   ]
  },
  {
   "cell_type": "code",
   "execution_count": 3,
   "metadata": {},
   "outputs": [],
   "source": [
    "class Interface(ABC):\n",
    "\n",
    "    @abstractmethod\n",
    "    def execute(self, **kwargs) -> Entity:\n",
    "        raise NotImplementedError"
   ]
  },
  {
   "cell_type": "markdown",
   "metadata": {},
   "source": [
    "## Use Cases"
   ]
  },
  {
   "cell_type": "code",
   "execution_count": 4,
   "metadata": {},
   "outputs": [],
   "source": [
    "class UseCase(ABC):\n",
    "\n",
    "    @abstractmethod\n",
    "    def execute(self, **kwargs) -> Entity:\n",
    "        raise NotImplementedError"
   ]
  },
  {
   "cell_type": "markdown",
   "metadata": {},
   "source": [
    "## Handlers"
   ]
  },
  {
   "cell_type": "code",
   "execution_count": 5,
   "metadata": {},
   "outputs": [],
   "source": [
    "class Handler(ABC):\n",
    "    \n",
    "    @abstractmethod\n",
    "    def execute(self) -> Entity:\n",
    "        raise NotImplementedError"
   ]
  },
  {
   "cell_type": "markdown",
   "metadata": {},
   "source": [
    "# Implementation"
   ]
  },
  {
   "cell_type": "markdown",
   "metadata": {},
   "source": [
    "## Entities"
   ]
  },
  {
   "cell_type": "code",
   "execution_count": 6,
   "metadata": {},
   "outputs": [],
   "source": [
    "class Image(Entity):\n",
    "\n",
    "    def __init__(self, image: Any) -> None:\n",
    "        self._timestamp = self.setTimeStamp()\n",
    "        self._image = image\n",
    "\n",
    "    def setTimeStamp(self) -> None:\n",
    "        timestamp = time.time()\n",
    "        time_struct = time.localtime(timestamp) \n",
    "        timestamp = time.strftime(\"%Y-%m-%d %H:%M:%S\", time_struct)\n",
    "        self._timestamp = timestamp\n",
    "\n",
    "    def setImage(self, image: Any) -> None:\n",
    "        self._image = image\n",
    "\n",
    "    def getTimeStamp(self) -> str:\n",
    "        return self._timestamp\n",
    "    \n",
    "    def getImage(self):\n",
    "        return self._image\n",
    "    \n",
    "    @override(Entity)\n",
    "    def getDescription(self) -> str:\n",
    "        return f\"{self.__class__.__name__} (Entity)\""
   ]
  },
  {
   "cell_type": "markdown",
   "metadata": {},
   "source": [
    "## Interface"
   ]
  },
  {
   "cell_type": "code",
   "execution_count": 7,
   "metadata": {},
   "outputs": [],
   "source": [
    "class ImageReader(Interface):\n",
    "        \n",
    "    @abstractmethod\n",
    "    def toImage(self, image: Any) -> Image:\n",
    "        raise NotImplementedError\n",
    "    \n",
    "    @abstractmethod\n",
    "    def readImage(self, image_path: Path) -> Any:\n",
    "        raise NotImplementedError"
   ]
  },
  {
   "cell_type": "code",
   "execution_count": 8,
   "metadata": {},
   "outputs": [],
   "source": [
    "from typing import Any\n",
    "import cv2\n",
    "\n",
    "class OpenCVImageReader(ImageReader):\n",
    "\n",
    "    def __init__(self) -> None:\n",
    "        print(f\"{self.__class__.__name__}\")\n",
    "\n",
    "    @override(ImageReader)\n",
    "    def toImage(self, image: Any) -> Image:\n",
    "        return Image(image)\n",
    "\n",
    "    @override(ImageReader)\n",
    "    def readImage(self, image_filepath: Path) -> Any:\n",
    "        return cv2.imread(str(image_filepath))\n",
    "    \n",
    "    @override(Interface)\n",
    "    def execute(self, image_filepath: Path) -> Entity:\n",
    "        \n",
    "        image = self.readImage(image_filepath)\n",
    "        image = self.toImage(image)\n",
    "\n",
    "        return image"
   ]
  },
  {
   "cell_type": "markdown",
   "metadata": {},
   "source": [
    "## Use Case"
   ]
  },
  {
   "cell_type": "code",
   "execution_count": 9,
   "metadata": {},
   "outputs": [],
   "source": [
    "class ReadImageUseCase(UseCase):\n",
    "\n",
    "    def __init__(self, image_reader: ImageReader):\n",
    "        self._image_reader = image_reader\n",
    "\n",
    "    @override(UseCase)\n",
    "    def execute(self, image_filepath: Path) -> Entity:\n",
    "        return self._image_reader.execute(image_filepath=image_filepath)"
   ]
  },
  {
   "cell_type": "markdown",
   "metadata": {},
   "source": [
    "## Handler"
   ]
  },
  {
   "cell_type": "code",
   "execution_count": 10,
   "metadata": {},
   "outputs": [],
   "source": [
    "from dependency_injector.wiring import inject, Provide\n",
    "import matplotlib.pyplot as plt\n",
    "\n",
    "# handler will handle few or more use cases\n",
    "class ImageQualityControlHandler(Handler):\n",
    "\n",
    "    @inject\n",
    "    def __init__(self, read_image_use_case: ReadImageUseCase) -> None:\n",
    "        super().__init__()\n",
    "        self.read_image_use_case = read_image_use_case\n",
    "\n",
    "    def read_image(self, image_filepath: Path) -> Entity:\n",
    "        image: Image = self.read_image_use_case.execute(image_filepath)\n",
    "        return image\n",
    "\n",
    "    def execute(self, **kwargs) -> Entity:\n",
    "        # 1. read image\n",
    "        image = self.read_image(kwargs['image_filepath'])\n",
    "        plt.imshow(image.getImage())"
   ]
  },
  {
   "cell_type": "code",
   "execution_count": 11,
   "metadata": {},
   "outputs": [],
   "source": [
    "from dependency_injector import containers, providers\n",
    "import os\n",
    "\n",
    "class SystemDeclarator(containers.DeclarativeContainer):\n",
    "\n",
    "    # Interfaces\n",
    "    image_reader = providers.Singleton(OpenCVImageReader)\n",
    "\n",
    "    # Use Cases\n",
    "    read_image_use_case = providers.Factory(ReadImageUseCase, image_reader=image_reader)\n",
    "\n",
    "    # Handler\n",
    "    image_quality_control_handler = providers.Factory(ImageQualityControlHandler, \n",
    "                                                      read_image_use_case=read_image_use_case)"
   ]
  },
  {
   "cell_type": "code",
   "execution_count": 12,
   "metadata": {},
   "outputs": [
    {
     "name": "stdout",
     "output_type": "stream",
     "text": [
      "OpenCVImageReader\n"
     ]
    },
    {
     "data": {
      "image/png": "[encoded data removed]",
      "text/plain": [
       "<Figure size 640x480 with 1 Axes>"
      ]
     },
     "metadata": {},
     "output_type": "display_data"
    }
   ],
   "source": [
    "image_filepath = Path(os.environ.get('IMAGE_FILEPATH', 'Study Case/assets/1. Recursive Composition of Text and Graphics.png'))\n",
    "\n",
    "# Create the container instance\n",
    "container = SystemDeclarator()\n",
    "container.init_resources()\n",
    "container.wire(modules=[__name__])\n",
    "\n",
    "# Create an instance of ImageQualityControlHandler with dependencies automatically injected\n",
    "image_quality_control_handler = container.image_quality_control_handler()\n",
    "\n",
    "# Now you can use the handler\n",
    "image_quality_control_handler.execute(image_filepath=image_filepath)\n"
   ]
  }
 ],
 "metadata": {
  "kernelspec": {
   "display_name": "experimental",
   "language": "python",
   "name": "python3"
  },
  "language_info": {
   "codemirror_mode": {
    "name": "ipython",
    "version": 3
   },
   "file_extension": ".py",
   "mimetype": "text/x-python",
   "name": "python",
   "nbconvert_exporter": "python",
   "pygments_lexer": "ipython3",
   "version": "3.9.13"
  }
 },
 "nbformat": 4,
 "nbformat_minor": 2
}
