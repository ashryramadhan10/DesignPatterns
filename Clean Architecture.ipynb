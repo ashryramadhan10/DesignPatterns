{
 "cells": [
  {
   "cell_type": "markdown",
   "metadata": {},
   "source": [
    "# Clean Architectures"
   ]
  },
  {
   "cell_type": "markdown",
   "metadata": {},
   "source": [
    "## Use Case: Image Processing"
   ]
  },
  {
   "cell_type": "code",
   "execution_count": 1,
   "metadata": {},
   "outputs": [],
   "source": [
    "from override_decorator import override\n",
    "import time\n",
    "from pathlib import Path"
   ]
  },
  {
   "cell_type": "markdown",
   "metadata": {},
   "source": [
    "## Entities"
   ]
  },
  {
   "cell_type": "code",
   "execution_count": 2,
   "metadata": {},
   "outputs": [],
   "source": [
    "from abc import ABC, abstractmethod\n",
    "from typing import Any\n",
    "\n",
    "class Entity(ABC):\n",
    "\n",
    "    @abstractmethod\n",
    "    def getDescription(self) -> str:\n",
    "        raise NotImplementedError"
   ]
  },
  {
   "cell_type": "markdown",
   "metadata": {},
   "source": [
    "## Interfaces / Actors"
   ]
  },
  {
   "cell_type": "code",
   "execution_count": 3,
   "metadata": {},
   "outputs": [],
   "source": [
    "class Interface(ABC):\n",
    "\n",
    "    @abstractmethod\n",
    "    def execute(self, **kwargs) -> Entity:\n",
    "        raise NotImplementedError"
   ]
  },
  {
   "cell_type": "markdown",
   "metadata": {},
   "source": [
    "## Use Cases"
   ]
  },
  {
   "cell_type": "code",
   "execution_count": 4,
   "metadata": {},
   "outputs": [],
   "source": [
    "class UseCase(ABC):\n",
    "\n",
    "    @abstractmethod\n",
    "    def execute(self, **kwargs) -> Entity:\n",
    "        raise NotImplementedError"
   ]
  },
  {
   "cell_type": "markdown",
   "metadata": {},
   "source": [
    "## Handlers"
   ]
  },
  {
   "cell_type": "code",
   "execution_count": 5,
   "metadata": {},
   "outputs": [],
   "source": [
    "class Handler(ABC):\n",
    "\n",
    "    def __init__(self) -> None:\n",
    "        self._use_cases = {}\n",
    "\n",
    "    def addUseCase(self, key: str, use_case: UseCase):\n",
    "        self._use_cases[key] = use_case\n",
    "\n",
    "    def removeUseCase(self, key: str):\n",
    "        del self._use_cases[key]\n",
    "\n",
    "    def getUseCase(self, key: str) -> UseCase:\n",
    "        return self._use_cases[key]\n",
    "    \n",
    "    @abstractmethod\n",
    "    def execute(self) -> Entity:\n",
    "        raise NotImplementedError"
   ]
  },
  {
   "cell_type": "markdown",
   "metadata": {},
   "source": [
    "# Implementation"
   ]
  },
  {
   "cell_type": "markdown",
   "metadata": {},
   "source": [
    "## Entities"
   ]
  },
  {
   "cell_type": "code",
   "execution_count": 6,
   "metadata": {},
   "outputs": [],
   "source": [
    "class Image(Entity):\n",
    "\n",
    "    def __init__(self, image: Any) -> None:\n",
    "        self._timestamp = self.setTimeStamp()\n",
    "        self._image = image\n",
    "\n",
    "    def setTimeStamp(self) -> None:\n",
    "        timestamp = time.time()\n",
    "        time_struct = time.localtime(timestamp) \n",
    "        timestamp = time.strftime(\"%Y-%m-%d %H:%M:%S\", time_struct)\n",
    "        self._timestamp = timestamp\n",
    "\n",
    "    def setImage(self, image: Any) -> None:\n",
    "        self._image = image\n",
    "\n",
    "    def getTimeStamp(self) -> str:\n",
    "        return self._timestamp\n",
    "    \n",
    "    def getImage(self):\n",
    "        return self._image\n",
    "    \n",
    "    @override(Entity)\n",
    "    def getDescription(self) -> str:\n",
    "        return f\"{self.__class__.__name__} (Entity)\""
   ]
  },
  {
   "cell_type": "markdown",
   "metadata": {},
   "source": [
    "## Interface"
   ]
  },
  {
   "cell_type": "code",
   "execution_count": 7,
   "metadata": {},
   "outputs": [],
   "source": [
    "class ImageReader(Interface):\n",
    "        \n",
    "    @abstractmethod\n",
    "    def toImage(self, image: Any) -> Image:\n",
    "        raise NotImplementedError\n",
    "    \n",
    "    @abstractmethod\n",
    "    def readImage(self, image_path: Path) -> Any:\n",
    "        raise NotImplementedError"
   ]
  },
  {
   "cell_type": "code",
   "execution_count": 8,
   "metadata": {},
   "outputs": [],
   "source": [
    "from typing import Any\n",
    "import cv2\n",
    "\n",
    "class OpenCVImageReader(ImageReader):\n",
    "\n",
    "    def __init__(self) -> None:\n",
    "        print(f\"{self.__class__.__name__}\")\n",
    "\n",
    "    @override(ImageReader)\n",
    "    def toImage(self, image: Any) -> Image:\n",
    "        return Image(image)\n",
    "\n",
    "    @override(ImageReader)\n",
    "    def readImage(self, image_path: Path) -> Any:\n",
    "        return cv2.imread(str(image_path))\n",
    "    \n",
    "    @override(Interface)\n",
    "    def execute(self, **kwargs) -> Entity:\n",
    "        \n",
    "        image = self.readImage(kwargs[\"image_path\"])\n",
    "        image = self.toImage(image)\n",
    "\n",
    "        return image"
   ]
  },
  {
   "cell_type": "markdown",
   "metadata": {},
   "source": [
    "## Use Case"
   ]
  },
  {
   "cell_type": "code",
   "execution_count": null,
   "metadata": {},
   "outputs": [],
   "source": [
    "class ReadImageUseCase(UseCase):\n",
    "\n",
    "    def __init__(self, image_reader: ImageReader):\n",
    "        self._image_reader = image_reader\n",
    "\n",
    "    @override(UseCase)\n",
    "    def execute(self, image_path: str) -> Entity:\n",
    "        return self._image_reader.execute(image_path=image_path)"
   ]
  }
 ],
 "metadata": {
  "kernelspec": {
   "display_name": "ai",
   "language": "python",
   "name": "python3"
  },
  "language_info": {
   "codemirror_mode": {
    "name": "ipython",
    "version": 3
   },
   "file_extension": ".py",
   "mimetype": "text/x-python",
   "name": "python",
   "nbconvert_exporter": "python",
   "pygments_lexer": "ipython3",
   "version": "3.8.16"
  }
 },
 "nbformat": 4,
 "nbformat_minor": 2
}
