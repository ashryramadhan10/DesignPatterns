{
 "cells": [
  {
   "cell_type": "markdown",
   "metadata": {},
   "source": [
    "# Adapter Pattern\n",
    "\n",
    "* Change another Interface to another Interface\n",
    "* The relationship is interface to interface\n",
    "* There are two types of Adapter pattern, one is composition-based, the other one is inheritance-based"
   ]
  },
  {
   "cell_type": "code",
   "execution_count": 4,
   "metadata": {},
   "outputs": [],
   "source": [
    "from abc import ABC, abstractmethod\n",
    "from override_decorator import override"
   ]
  },
  {
   "cell_type": "code",
   "execution_count": 2,
   "metadata": {},
   "outputs": [],
   "source": [
    "class Duck(ABC):\n",
    "\n",
    "    @abstractmethod\n",
    "    def quack(self) -> None:\n",
    "        raise NotImplementedError\n",
    "\n",
    "    @abstractmethod\n",
    "    def fly(self) -> None:\n",
    "        raise NotImplementedError\n",
    "\n",
    "class Turkey(ABC):\n",
    "\n",
    "    @abstractmethod\n",
    "    def gooble(self) -> None:\n",
    "        raise NotImplementedError\n",
    "\n",
    "    @abstractmethod\n",
    "    def fly(self) -> None:\n",
    "        raise NotADirectoryError"
   ]
  },
  {
   "cell_type": "markdown",
   "metadata": {},
   "source": [
    "Let say the Duck class is our class and the Turkey class is a class from a third party package.\n",
    "\n",
    "We want the third party package to adapt with our Duck interface."
   ]
  },
  {
   "cell_type": "code",
   "execution_count": 6,
   "metadata": {},
   "outputs": [],
   "source": [
    "class MallardDuck(Duck):\n",
    "\n",
    "    def __init__(self) -> None:\n",
    "        pass\n",
    "\n",
    "    @override(Duck)\n",
    "    def quack(self) -> None:\n",
    "        print(\"Quack\")\n",
    "\n",
    "    @override(Duck)\n",
    "    def fly(self) -> None:\n",
    "        print(\"I'm flying\")"
   ]
  },
  {
   "cell_type": "code",
   "execution_count": 7,
   "metadata": {},
   "outputs": [],
   "source": [
    "class WildTurkey(Turkey):\n",
    "\n",
    "    def __init__(self) -> None:\n",
    "        pass\n",
    "\n",
    "    @override(Turkey)\n",
    "    def gooble(self) -> None:\n",
    "        print(\"Gooble\")\n",
    "\n",
    "    @override(Turkey)\n",
    "    def fly(self) -> None:\n",
    "        print(\"I'm flying a short distance\")"
   ]
  },
  {
   "cell_type": "markdown",
   "metadata": {},
   "source": [
    "now want WildTurkey to adapt with Duck interface"
   ]
  },
  {
   "cell_type": "code",
   "execution_count": 8,
   "metadata": {},
   "outputs": [],
   "source": [
    "class TurkeyAdapter(Duck):\n",
    "\n",
    "    def __init__(self, turkey: Turkey) -> None:\n",
    "        self._turkey = turkey\n",
    "\n",
    "    @override(Duck)\n",
    "    def quack(self) -> None:\n",
    "        self._turkey.gooble()\n",
    "\n",
    "    @override(Duck)\n",
    "    def fly(self) -> None:\n",
    "        self._turkey.fly()"
   ]
  },
  {
   "cell_type": "code",
   "execution_count": 9,
   "metadata": {},
   "outputs": [
    {
     "name": "stdout",
     "output_type": "stream",
     "text": [
      "Gooble\n",
      "I'm flying a short distance\n"
     ]
    }
   ],
   "source": [
    "wildTurkey = WildTurkey()\n",
    "turkeyAdapter = TurkeyAdapter(wildTurkey)\n",
    "\n",
    "turkeyAdapter.quack()\n",
    "turkeyAdapter.fly()"
   ]
  }
 ],
 "metadata": {
  "kernelspec": {
   "display_name": "Python 3",
   "language": "python",
   "name": "python3"
  },
  "language_info": {
   "codemirror_mode": {
    "name": "ipython",
    "version": 3
   },
   "file_extension": ".py",
   "mimetype": "text/x-python",
   "name": "python",
   "nbconvert_exporter": "python",
   "pygments_lexer": "ipython3",
   "version": "3.11.4"
  }
 },
 "nbformat": 4,
 "nbformat_minor": 2
}
