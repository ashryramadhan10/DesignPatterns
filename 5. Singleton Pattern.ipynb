{
 "cells": [
  {
   "cell_type": "markdown",
   "metadata": {},
   "source": [
    "# Singleton Pattern"
   ]
  },
  {
   "cell_type": "code",
   "execution_count": 1,
   "metadata": {},
   "outputs": [],
   "source": [
    "from override_decorator import override"
   ]
  },
  {
   "cell_type": "code",
   "execution_count": 32,
   "metadata": {},
   "outputs": [],
   "source": [
    "from abc import ABC, abstractmethod\n",
    "\n",
    "class Singleton(ABC):\n",
    "\n",
    "   _instances = {}\n",
    "\n",
    "   def __new__(self, *args, **kwargs):\n",
    "      if self not in self._instances:\n",
    "         instance = super(Singleton, self).__new__(self, *args, **kwargs)\n",
    "         self._instances[self] = instance\n",
    "      return self._instances[self]\n",
    "   \n",
    "   @abstractmethod\n",
    "   def getDescription(self) -> str:\n",
    "      raise NotImplementedError"
   ]
  },
  {
   "cell_type": "code",
   "execution_count": 34,
   "metadata": {},
   "outputs": [
    {
     "name": "stdout",
     "output_type": "stream",
     "text": [
      "True\n",
      "2352800857536 2352800857536\n"
     ]
    }
   ],
   "source": [
    "# Derived Singleton Class\n",
    "class ConcreteSingleton(Singleton):\n",
    "    def __init__(self):\n",
    "        pass\n",
    "    \n",
    "    @override(Singleton)\n",
    "    def getDescription(self):\n",
    "        print(\"This is a concrete method implementation.\")\n",
    "\n",
    "singleton1 = ConcreteSingleton()\n",
    "singleton2 = ConcreteSingleton()\n",
    "\n",
    "print(singleton1 is singleton2)  # Output: True\n",
    "print(id(singleton1), id(singleton2))  # Outputs the same id for both instances"
   ]
  }
 ],
 "metadata": {
  "kernelspec": {
   "display_name": "ai",
   "language": "python",
   "name": "python3"
  },
  "language_info": {
   "codemirror_mode": {
    "name": "ipython",
    "version": 3
   },
   "file_extension": ".py",
   "mimetype": "text/x-python",
   "name": "python",
   "nbconvert_exporter": "python",
   "pygments_lexer": "ipython3",
   "version": "3.8.16"
  }
 },
 "nbformat": 4,
 "nbformat_minor": 2
}
