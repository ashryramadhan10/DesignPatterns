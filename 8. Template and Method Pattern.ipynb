{
 "cells": [
  {
   "cell_type": "markdown",
   "metadata": {},
   "source": [
    "# Template and Method Pattern\n",
    "\n",
    "* This is just encapsulating principle\n",
    "\n",
    "The Template Method pattern is a behavioral design pattern that defines the skeleton of an algorithm in a base (abstract) class, allowing subclasses to override certain steps without changing the overall structure of the algorithm. This pattern is particularly useful when you have a series of steps that need to be followed in a specific order, but some of those steps can vary depending on the implementation."
   ]
  },
  {
   "cell_type": "code",
   "execution_count": null,
   "metadata": {},
   "outputs": [],
   "source": [
    "from abc import ABC, abstractmethod\n",
    "\n",
    "# Abstract Class\n",
    "class DataProcessor(ABC):\n",
    "    def process(self):\n",
    "        self.load_data()\n",
    "        self.process_data()\n",
    "        self.save_data()\n",
    "\n",
    "    @abstractmethod\n",
    "    def load_data(self):\n",
    "        pass\n",
    "\n",
    "    @abstractmethod\n",
    "    def process_data(self):\n",
    "        pass\n",
    "\n",
    "    @abstractmethod\n",
    "    def save_data(self):\n",
    "        pass\n",
    "\n",
    "\n",
    "# Concrete Class 1\n",
    "class CSVDataProcessor(DataProcessor):\n",
    "    def load_data(self):\n",
    "        print(\"Loading data from a CSV file\")\n",
    "\n",
    "    def process_data(self):\n",
    "        print(\"Processing data: Performing CSV-specific processing\")\n",
    "\n",
    "    def save_data(self):\n",
    "        print(\"Saving data to a new CSV file\")\n",
    "\n",
    "\n",
    "# Concrete Class 2\n",
    "class JSONDataProcessor(DataProcessor):\n",
    "    def load_data(self):\n",
    "        print(\"Loading data from a JSON file\")\n",
    "\n",
    "    def process_data(self):\n",
    "        print(\"Processing data: Performing JSON-specific processing\")\n",
    "\n",
    "    def save_data(self):\n",
    "        print(\"Saving data to a new JSON file\")\n",
    "\n",
    "\n",
    "# Client code\n",
    "if __name__ == \"__main__\":\n",
    "    print(\"Processing CSV data:\")\n",
    "    csv_processor = CSVDataProcessor()\n",
    "    csv_processor.process()\n",
    "\n",
    "    print(\"\\nProcessing JSON data:\")\n",
    "    json_processor = JSONDataProcessor()\n",
    "    json_processor.process()\n"
   ]
  }
 ],
 "metadata": {
  "language_info": {
   "name": "python"
  }
 },
 "nbformat": 4,
 "nbformat_minor": 2
}
